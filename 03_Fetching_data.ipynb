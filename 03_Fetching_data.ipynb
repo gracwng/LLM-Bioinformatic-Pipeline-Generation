{
  "cells": [
    {
      "cell_type": "markdown",
      "metadata": {
        "id": "WsSJbpIYHZyn"
      },
      "source": [
        "# Accessing and downloading Data\n",
        "\n",
        "\n",
        "\n",
        "*   Finding the route to get hold of the data\n",
        "*   Converting spreadsheets to CSV\n",
        "\n"
      ]
    },
    {
      "cell_type": "code",
      "execution_count": 1,
      "metadata": {
        "id": "Po6b5MT5oidh"
      },
      "outputs": [
        {
          "ename": "ModuleNotFoundError",
          "evalue": "No module named 'pandas'",
          "output_type": "error",
          "traceback": [
            "\u001b[0;31m---------------------------------------------------------------------------\u001b[0m",
            "\u001b[0;31mModuleNotFoundError\u001b[0m                       Traceback (most recent call last)",
            "Cell \u001b[0;32mIn[1], line 8\u001b[0m\n\u001b[1;32m      5\u001b[0m \u001b[38;5;28;01mimport\u001b[39;00m \u001b[38;5;21;01mio\u001b[39;00m\n\u001b[1;32m      7\u001b[0m \u001b[38;5;66;03m# Importing the libraries we need to format the data in a more readable way.\u001b[39;00m\n\u001b[0;32m----> 8\u001b[0m \u001b[38;5;28;01mimport\u001b[39;00m \u001b[38;5;21;01mpandas\u001b[39;00m \u001b[38;5;28;01mas\u001b[39;00m \u001b[38;5;21;01mpd\u001b[39;00m\n\u001b[1;32m      9\u001b[0m \u001b[38;5;66;03m#from pandas.io.json import json_normalize\u001b[39;00m\n\u001b[1;32m     11\u001b[0m \u001b[38;5;28;01mfrom\u001b[39;00m \u001b[38;5;21;01mIPython\u001b[39;00m\u001b[38;5;21;01m.\u001b[39;00m\u001b[38;5;21;01mdisplay\u001b[39;00m \u001b[38;5;28;01mimport\u001b[39;00m HTML\n",
            "\u001b[0;31mModuleNotFoundError\u001b[0m: No module named 'pandas'"
          ]
        }
      ],
      "source": [
        "import requests\n",
        "import json\n",
        "import string\n",
        "\n",
        "import io\n",
        "\n",
        "# Importing the libraries we need to format the data in a more readable way.\n",
        "import pandas as pd\n",
        "#from pandas.io.json import json_normalize\n",
        "\n",
        "from IPython.display import HTML"
      ]
    },
    {
      "cell_type": "code",
      "execution_count": null,
      "metadata": {
        "id": "xtQxEzY_oo2i"
      },
      "outputs": [],
      "source": [
        "base_url = 'https://workflowhub.eu'\n",
        "#/workflows/2"
      ]
    },
    {
      "cell_type": "code",
      "execution_count": null,
      "metadata": {
        "id": "dWmo665aosLY"
      },
      "outputs": [],
      "source": [
        "def json_for_resource(type, id):\n",
        "\n",
        "  headers = {\"Accept\": \"application/vnd.api+json\",\n",
        "           \"Accept-Charset\": \"ISO-8859-1\"}\n",
        "  r = requests.get(base_url + \"/\" + type + \"/\" + str(id), headers=headers)\n",
        "  r.raise_for_status()\n",
        "  return r.json()"
      ]
    },
    {
      "cell_type": "markdown",
      "metadata": {
        "id": "4rSNZISLH1Y5"
      },
      "source": [
        "Fetch the JSON for the Data file resource at https://fairdomhub.org/data_files/1049\n",
        "\n",
        "We print out title to be sure we have the correct item."
      ]
    },
    {
      "cell_type": "code",
      "execution_count": null,
      "metadata": {
        "id": "ZF69h5IGotLJ"
      },
      "outputs": [],
      "source": [
        "data_file_id = 2\n",
        "\n",
        "result = json_for_resource('workflows',data_file_id)\n",
        "\n",
        "title = result['data']['attributes']['title']\n",
        "\n",
        "title"
      ]
    },
    {
      "cell_type": "markdown",
      "metadata": {
        "id": "mhW8e3_RIKJP"
      },
      "source": [
        "The attributes contain a 'content_blobs' block. Content Blob is the name we use in SEEK for the entity that corresponds to a file or URL.\n",
        "\n",
        "Note that content_blobs is always an array. Models can currently contain multiple content blobs (multiple files), and we plan to provide the same support to Data files and other assets in the future.\n",
        "\n",
        "\n"
      ]
    },
    {
      "cell_type": "code",
      "execution_count": null,
      "metadata": {
        "id": "5fzhQETpA3sp"
      },
      "outputs": [],
      "source": [
        "result['data']['attributes']"
      ]
    },
    {
      "cell_type": "markdown",
      "metadata": {
        "id": "iFgiWDYXJZOP"
      },
      "source": [
        "Here we focus on the details about a single content blob:\n",
        "\n",
        "* **content_type** - this is the mime type of the file, or the whatever the URL points to\n",
        "*  **link** - this is the link that describes the content blob route\n",
        "*  **md5sum** - an MD5 checksum of the contents\n",
        "* **sha1sum** - a SHA1 based checksum of the contents. These checksums are useful for checking the file downloaded is correct, and there hasn't been an error or has been modified since being registered with SEEK.\n",
        "* **original_filename** - the filename if the file, as it was when registered with SEEK\n",
        "* **size** - the size of the file in bytes\n",
        "* **url** - url to an external resource, if the item was registered with SEEK using a URL rather than a direct upload\n",
        "\n",
        "In this case, this is an *Excel XLSX* file, called *1205 amino acid omission pyogenes.xlsx*, and is about 59k"
      ]
    },
    {
      "cell_type": "markdown",
      "metadata": {
        "id": "TLLf_c8cKMq4"
      },
      "source": [
        "The route to directly download a file is the content blob route, with the */download* action appended. This is always the case for anything downloadable in SEEK.\n",
        "\n",
        "In this example we display the URL to download the content blob for generete a HTML hyperlink for it.\n",
        "\n",
        "Although in this case we download the content blob itself directly, it is also possible to download with https://fairdomhub.org/data_files/1049/download . Other than Models, this currently results in downloading a single file. For models, a ZIP file is generated that contains all files. To be future proof, we recommend downloading individual files through the content-blob route."
      ]
    },
    {
      "cell_type": "code",
      "execution_count": null,
      "metadata": {
        "id": "oHdmzBq0qNa2"
      },
      "outputs": [],
      "source": [
        "content_blobs = result['data']['attributes']['content_blobs']\n",
        "for blob in content_blobs:\n",
        "    link = blob['url']\n",
        "    filename = blob['original_filename']\n",
        "    download_link = f\"{link}/download\"\n",
        "    print(f\"Download link is: {download_link}\\n\")"
      ]
    },
    {
      "cell_type": "markdown",
      "metadata": {
        "id": "Y4xbfOhPLP0B"
      },
      "source": [
        "As we saw earlier. this Data file is an Excel spreadsheet. Where data is an Excel spreadsheet, it can be converted to a Comma Seperated File (CSV), by requesting this format through content negotiation.\n",
        "\n",
        "In this case, we request a GET to https://fairdomhub.org/data_files/1049/content_blobs/1518, but instead of requesting JSON we use an Accept: header of 'text/csv'. A parameter 'sheet' can be included to access different sheets, which if missed always defaults to the first sheet.\n",
        "\n",
        "Here we request CSV and display the first sheet in a table using the Pandas module. (NaN is just a blank cell in the spreadsheet)."
      ]
    },
    {
      "cell_type": "code",
      "execution_count": null,
      "metadata": {
        "id": "K9TCGAkvraru"
      },
      "outputs": [],
      "source": [
        "headers = { \"Accept\": \"text/csv\" }\n",
        "r = requests.get(link, headers=headers, params={'sheet':'1'})\n",
        "r.raise_for_status()\n",
        "\n",
        "csv = pd.read_csv(io.StringIO(r.content.decode('utf-8')))\n",
        "\n",
        "csv"
      ]
    },
    {
      "cell_type": "markdown",
      "metadata": {
        "id": "1sLkGNptMdpD"
      },
      "source": [
        "# Exercise 3\n",
        "\n",
        "\n",
        "\n",
        "*   Update the notebook to display the content blob details and CSV for sheet 2 of https://fairdomhub.org/data_files/2222\n",
        "*   Update and look at the multiple model file content blobs for https://fairdomhub.org/models/308 (don't worry if the csv step fails)\n",
        "\n"
      ]
    }
  ],
  "metadata": {
    "colab": {
      "name": "03 Fetching data.ipynb",
      "private_outputs": true,
      "provenance": []
    },
    "kernelspec": {
      "display_name": "Python 3",
      "name": "python3"
    },
    "language_info": {
      "codemirror_mode": {
        "name": "ipython",
        "version": 3
      },
      "file_extension": ".py",
      "mimetype": "text/x-python",
      "name": "python",
      "nbconvert_exporter": "python",
      "pygments_lexer": "ipython3",
      "version": "3.11.7"
    }
  },
  "nbformat": 4,
  "nbformat_minor": 0
}
